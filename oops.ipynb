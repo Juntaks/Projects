{
 "cells": [
  {
   "cell_type": "markdown",
   "id": "4ede1eb5",
   "metadata": {},
   "source": [
    "# OOPS IN PYTHON"
   ]
  },
  {
   "cell_type": "code",
   "execution_count": null,
   "id": "7a3013b5",
   "metadata": {},
   "outputs": [],
   "source": [
    "class A:\n",
    "    def __init__(self,model,year): #m,y\n",
    "        self.m=model\n",
    "        self.y=year\n",
    "       # self.c=color\n",
    "    def display(self):\n",
    "        print(self.m,self.y)\n",
    "\n",
    "b=A(\"i20\",2000)\n",
    "b.display()\n",
    "c=A(\"Toyota\",1996)\n",
    "c.display()\n",
    "d=A(\"Breeza\",2017)\n",
    "d.display()\n",
    "#self--used as a reference variable wich refers to the current class object. It is mandatory to\n",
    "#have it as the first argument in the function definition"
   ]
  },
  {
   "cell_type": "code",
   "execution_count": null,
   "id": "02afe14e",
   "metadata": {},
   "outputs": [],
   "source": [
    "def add(a,b):\n",
    "    print(a,b)\n",
    "add(6,7)"
   ]
  },
  {
   "cell_type": "code",
   "execution_count": null,
   "id": "e1182ea5",
   "metadata": {},
   "outputs": [],
   "source": [
    "#ATM\n",
    "class ATM:\n",
    "    def __init__(self,bal):\n",
    "        self.b=bal\n",
    "    def deposit(self,amt):\n",
    "        self.b=self.b+amt\n",
    "        self.balance()\n",
    "    def balance(self):\n",
    "        print(\"The balance is :\",self.b)\n",
    "    def withdraw(self,amt):\n",
    "        if(self.b<amt):\n",
    "            print(\" Insufficient balance\")\n",
    "        else:\n",
    "            self.b=self.b-amt\n",
    "            self.balance()\n",
    "\n",
    "print(\"press1 for deposit\")           \n",
    "            \n",
    "a=ATM(1000)\n",
    "n= int(input(\" enter the amount\"))\n",
    "a.deposit(n)\n",
    "a.withdraw(78)\n",
    "a.balance()"
   ]
  },
  {
   "cell_type": "code",
   "execution_count": null,
   "id": "fb2cb68d",
   "metadata": {},
   "outputs": [],
   "source": [
    "# inheritance\n",
    "single level\n",
    "Multi level\n",
    "multiple \n",
    "hierarichal  \n",
    "hybrid--combination of more than one"
   ]
  },
  {
   "cell_type": "code",
   "execution_count": null,
   "id": "4cb6b5dc",
   "metadata": {},
   "outputs": [],
   "source": [
    "class parent:\n",
    "    def a(self):\n",
    "        print(\"hello\")\n",
    "class child(parent):\n",
    "    def a(self):\n",
    "        super().a()\n",
    "        print(\" hello in child\")\n",
    "\n",
    "class grand(child):\n",
    "    def a(self):\n",
    "        super().a()\n",
    "        print(\" hello in grand\")\n",
    "    \n",
    "        \n",
    "#c=child()\n",
    "#c.a()\n",
    "#c.b()\n",
    "#p=parent()\n",
    "#p.a()\n",
    "#p.b(0)\n",
    "\n",
    "g=grand()\n",
    "g.a()\n",
    "#g.b()\n",
    "#g.c()\n",
    "grand.mro()"
   ]
  },
  {
   "cell_type": "code",
   "execution_count": null,
   "id": "670d729f",
   "metadata": {},
   "outputs": [],
   "source": [
    "# hierarichal\n",
    "class Parent:\n",
    "    def __init__(self,a):\n",
    "        self.a=a\n",
    "    def display(self):\n",
    "        print(\"a:\",self.a)\n",
    "class child1(Parent):\n",
    "    def __init__(self,b,a):\n",
    "        self.b=b\n",
    "        Parent.__init__(self,a)\n",
    "    def display(self):\n",
    "        print(\"b:\",self.b)\n",
    "        super().display()\n",
    "class child2(Parent):\n",
    "    def __init__(self,c,a):\n",
    "        self.c=c\n",
    "        Parent.__init__(self,a)\n",
    "    def display(self):\n",
    "        print(\"c:\",self.c)\n",
    "\n",
    "c=child1(10,20)\n",
    "c.display()\n",
    "\n",
    "#p=Parent()\n",
    "#p.display"
   ]
  },
  {
   "cell_type": "code",
   "execution_count": null,
   "id": "87722b90",
   "metadata": {},
   "outputs": [],
   "source": [
    "# multiple\n",
    "#one child acn have multiple parent\n",
    "class Parent:\n",
    "    def __init__(self,a):\n",
    "        self.a=a\n",
    "    def display(self):\n",
    "        print(\"a:\",self.a)\n",
    "class Parent2():\n",
    "    def __init__(self,b):\n",
    "        self.b=b\n",
    "    def display(self):\n",
    "        print(\"b:\",self.b)\n",
    "        \n",
    "class child(Parent,Parent2):\n",
    "    def __init__(self,b,a,c):\n",
    "        self.c=c\n",
    "        super().__init__(a)\n",
    "        Parent2.__init__(self,b)\n",
    "    def display(self):\n",
    "        print(\"c:\",self.c)\n",
    "        Parent.display(self)\n",
    "        Parent2.display(self)\n",
    "\n",
    "c=child(10,20,30)\n",
    "c.display()\n",
    "child.__mro__# tuple\n",
    "child.mro()#list"
   ]
  },
  {
   "cell_type": "code",
   "execution_count": null,
   "id": "99662b5c",
   "metadata": {},
   "outputs": [],
   "source": [
    "# polymorphism\n",
    "class india:\n",
    "    def capital(self):\n",
    "        print(\"Delhi\")\n",
    "class USA:\n",
    "    def capital(self):\n",
    "        print(\" Washington DC\")\n",
    "obj=india()\n",
    "obj2=USA()\n",
    "obj.capital()\n",
    "obj2.capital()"
   ]
  },
  {
   "cell_type": "code",
   "execution_count": null,
   "id": "6368d400",
   "metadata": {},
   "outputs": [],
   "source": [
    "# INVENTORY MANAGEMENT\n",
    "#YOU ARE A SHOPKEEPER AND YOU HAVE STOCK OF 20 ORANGES 35 MANGOES AND 40 BANANAS ORANGE-1 MANG-1.5 N=BANANAS -2\n",
    "#QTY AND MONEY WHAT HE  WILL GIVE\n",
    "#USING THE CONCEPTS OF OOPS\n"
   ]
  },
  {
   "cell_type": "code",
   "execution_count": null,
   "id": "70f84793",
   "metadata": {},
   "outputs": [],
   "source": [
    "class inventory:\n",
    "    def __init__(self,o,m,b):\n",
    "        self.o=o\n",
    "        self.b=b\n",
    "        self.m=m\n",
    "        print(self.o,self.m,self.b)\n",
    "    def order(self,o1,m1,b1):\n",
    "        c=0\n",
    "        if(self.o>o1) and (self.m>m1) and (self.b>b1):\n",
    "            self.m=self.m-m1\n",
    "            self.o=self.o-o1\n",
    "            self.b=self.b-b1\n",
    "            c=1\n",
    "        else:\n",
    "            print(\" Insufficient fruits\")\n",
    "            c=0\n",
    "        total=0\n",
    "        total=o1*1+m1*1.5+b1*2\n",
    "        if(c==1):\n",
    "            return total\n",
    "        else :\n",
    "            return 0\n",
    "            \n",
    "    def amount(self,o,m,b,c):\n",
    "        total=0\n",
    "        total=o*1+m*1.5+b*2\n",
    "        \n",
    "        n=c-total\n",
    "        if(n<0):\n",
    "            print(\" Less amount given\")\n",
    "        elif n==0:\n",
    "            print(\"No cash to be returned\")\n",
    "        else:\n",
    "            return n\n",
    "    def balance(self):\n",
    "        print(\"Oranges:\",self.o)\n",
    "        print(\"Bananas:\",self.b)\n",
    "        print(\"Mangoes:\",self.m)\n",
    "\n",
    "i=inventory(20,35,40)\n",
    "ch='y'\n",
    "while True:\n",
    "    o=int(input(\" enter oranges\"))\n",
    "    m=int(input(\" enter mangoes\"))\n",
    "    b=int(input(\" enter bananas\"))\n",
    "   # print(i.order(o,m,b))\n",
    "    n=i.order(o,m,b)\n",
    "    if(n):\n",
    "        print(\" Bill is :\", n)\n",
    "        c=int(input(\" enter the amount to be given\"))  \n",
    "        print(\"Change:\",i.amount(o,m,b,c))\n",
    "        i.balance()\n",
    "        ch=input(\" continue?\")\n",
    "        if(ch=='n'):\n",
    "            break\n",
    "        "
   ]
  },
  {
   "cell_type": "code",
   "execution_count": null,
   "id": "e08ec646",
   "metadata": {},
   "outputs": [],
   "source": []
  },
  {
   "cell_type": "code",
   "execution_count": null,
   "id": "9e9239dc",
   "metadata": {},
   "outputs": [],
   "source": [
    "# output questions:\n",
    "class test:\n",
    "    def __init__(self,a):\n",
    "        self.a=a\n",
    "    def display(self):\n",
    "        print(self.a)\n",
    "    \n",
    "obj=test(10)\n",
    "obj.display()"
   ]
  },
  {
   "cell_type": "code",
   "execution_count": null,
   "id": "4c02ec07",
   "metadata": {},
   "outputs": [],
   "source": [
    "class A:\n",
    "    def __init__(self):\n",
    "        self.multiply(15)\n",
    "        print(self.i)\n",
    "    def multiply(self,i):\n",
    "        self.i=4*i//60\n",
    "class B(A):\n",
    "    def __init__(self):\n",
    "        super().__init__()\n",
    "        \n",
    "    def multiply(self,i):\n",
    "        self.i=2*i\n",
    "\n",
    "obj=B()"
   ]
  },
  {
   "cell_type": "code",
   "execution_count": null,
   "id": "2ec6c4af",
   "metadata": {},
   "outputs": [],
   "source": [
    "#constructors\n",
    "class A:\n",
    "    def __init__(self):\n",
    "        self.a=10\n",
    "    def display(self):\n",
    "        print(self.a)\n",
    "a=A()\n",
    "a.display()"
   ]
  },
  {
   "cell_type": "code",
   "execution_count": null,
   "id": "dbac91ec",
   "metadata": {},
   "outputs": [],
   "source": [
    "# parameterized constructor\n",
    "class A:\n",
    "    def __init__(self,a):\n",
    "        self.a=a\n",
    "    def display(self):\n",
    "        print(self.a)\n",
    "a=A(80)\n",
    "a.display()"
   ]
  },
  {
   "cell_type": "code",
   "execution_count": 1,
   "id": "2e845614",
   "metadata": {},
   "outputs": [
    {
     "name": "stdout",
     "output_type": "stream",
     "text": [
      "19\n",
      "20\n",
      "30\n",
      "40\n",
      " Destructor called\n",
      " Destructor called\n",
      " Destructor called\n",
      " Destructor called\n"
     ]
    }
   ],
   "source": [
    "#destructors in python\n",
    "class A:\n",
    "    def __init__(self,a):\n",
    "        self.a=a\n",
    "    def display(self):\n",
    "        print(self.a)\n",
    "    def __del__(self):\n",
    "        print(\" Destructor called\")\n",
    "        \n",
    "a=A(19)\n",
    "b=A(20)\n",
    "c=A(30)\n",
    "d=A(40)\n",
    "a.display()\n",
    "b.display()\n",
    "c.display()\n",
    "d.display()\n",
    "del a\n",
    "del b\n",
    "del c\n",
    "del d\n"
   ]
  },
  {
   "cell_type": "code",
   "execution_count": 8,
   "id": "f6d7db4d",
   "metadata": {},
   "outputs": [
    {
     "name": "stdout",
     "output_type": "stream",
     "text": [
      " Name:-  hanit\n",
      "Age:- 23\n",
      " Name:-  df\n",
      "Age:- 78\n"
     ]
    }
   ],
   "source": [
    "# access modifiers\n",
    "#public, private and protected\n",
    "\n",
    "class A:\n",
    "    def __init__(self,n,a):\n",
    "        self.name=n\n",
    "        self.age=a\n",
    "    def display(self):\n",
    "        print(\" Name:- \",self.name)\n",
    "        print(\"Age:-\",self.age)\n",
    "obj1=A(\"hanit\",23)\n",
    "obj1.display()\n",
    "obj1.name\n",
    "obj1.age\n",
    "obj1.__init__(\"df\",78)\n",
    "obj1.display()"
   ]
  },
  {
   "cell_type": "code",
   "execution_count": 19,
   "id": "d838871d",
   "metadata": {},
   "outputs": [
    {
     "name": "stdout",
     "output_type": "stream",
     "text": [
      " Name:-  das\n",
      "Age:- 89\n",
      "gg\n"
     ]
    }
   ],
   "source": [
    "#protected -- \"_\"\n",
    "class A:\n",
    "    #protected\n",
    "    _name=None\n",
    "    _age=None\n",
    "    \n",
    "    def __init__(self,n,a):\n",
    "        self._name=n\n",
    "        self._age=a\n",
    "    def _display(self):\n",
    "        print(\" Name:- \",self._name)\n",
    "        print(\"Age:-\",self._age)\n",
    "        \n",
    "class B(A):  \n",
    "    def __init__(self,n,a):\n",
    "        super().__init__(n,a)\n",
    "        \n",
    "    def details(self):\n",
    "        self._display()\n",
    "        \n",
    "class C(B):\n",
    "    def dis(self):\n",
    "        print(self._name)\n",
    "b=B(\"das\",89)\n",
    "b.details()\n",
    "c=C(\"gg\",88)\n",
    "c.dis()"
   ]
  },
  {
   "cell_type": "code",
   "execution_count": 27,
   "id": "ef297a7c",
   "metadata": {},
   "outputs": [
    {
     "ename": "AttributeError",
     "evalue": "'B' object has no attribute '_B__name'",
     "output_type": "error",
     "traceback": [
      "\u001b[1;31m---------------------------------------------------------------------------\u001b[0m",
      "\u001b[1;31mAttributeError\u001b[0m                            Traceback (most recent call last)",
      "\u001b[1;32m~\\AppData\\Local\\Temp/ipykernel_14240/1198981599.py\u001b[0m in \u001b[0;36m<module>\u001b[1;34m\u001b[0m\n\u001b[0;32m     22\u001b[0m         \u001b[0mprint\u001b[0m\u001b[1;33m(\u001b[0m\u001b[0mself\u001b[0m\u001b[1;33m.\u001b[0m\u001b[0m__name\u001b[0m\u001b[1;33m)\u001b[0m\u001b[1;33m\u001b[0m\u001b[1;33m\u001b[0m\u001b[0m\n\u001b[0;32m     23\u001b[0m \u001b[0mb\u001b[0m\u001b[1;33m=\u001b[0m\u001b[0mB\u001b[0m\u001b[1;33m(\u001b[0m\u001b[1;34m\"czx\"\u001b[0m\u001b[1;33m,\u001b[0m\u001b[1;36m33\u001b[0m\u001b[1;33m)\u001b[0m\u001b[1;33m\u001b[0m\u001b[1;33m\u001b[0m\u001b[0m\n\u001b[1;32m---> 24\u001b[1;33m \u001b[0mb\u001b[0m\u001b[1;33m.\u001b[0m\u001b[0mdetails\u001b[0m\u001b[1;33m(\u001b[0m\u001b[1;33m)\u001b[0m\u001b[1;33m\u001b[0m\u001b[1;33m\u001b[0m\u001b[0m\n\u001b[0m",
      "\u001b[1;32m~\\AppData\\Local\\Temp/ipykernel_14240/1198981599.py\u001b[0m in \u001b[0;36mdetails\u001b[1;34m(self)\u001b[0m\n\u001b[0;32m     16\u001b[0m \u001b[1;33m\u001b[0m\u001b[0m\n\u001b[0;32m     17\u001b[0m     \u001b[1;32mdef\u001b[0m \u001b[0mdetails\u001b[0m\u001b[1;33m(\u001b[0m\u001b[0mself\u001b[0m\u001b[1;33m)\u001b[0m\u001b[1;33m:\u001b[0m\u001b[1;33m\u001b[0m\u001b[1;33m\u001b[0m\u001b[0m\n\u001b[1;32m---> 18\u001b[1;33m         \u001b[0mprint\u001b[0m\u001b[1;33m(\u001b[0m\u001b[0mself\u001b[0m\u001b[1;33m.\u001b[0m\u001b[0m__name\u001b[0m\u001b[1;33m)\u001b[0m\u001b[1;33m\u001b[0m\u001b[1;33m\u001b[0m\u001b[0m\n\u001b[0m\u001b[0;32m     19\u001b[0m \u001b[1;33m\u001b[0m\u001b[0m\n\u001b[0;32m     20\u001b[0m \u001b[1;32mclass\u001b[0m \u001b[0mC\u001b[0m\u001b[1;33m(\u001b[0m\u001b[0mB\u001b[0m\u001b[1;33m)\u001b[0m\u001b[1;33m:\u001b[0m\u001b[1;33m\u001b[0m\u001b[1;33m\u001b[0m\u001b[0m\n",
      "\u001b[1;31mAttributeError\u001b[0m: 'B' object has no attribute '_B__name'"
     ]
    }
   ],
   "source": [
    "class A:\n",
    "    #private\n",
    "    __name=None\n",
    "    __age=None\n",
    "    \n",
    "    def __init__(self,n,a):\n",
    "        self.__name=n\n",
    "        self.__age=a\n",
    "    def _display(self):\n",
    "        print(\" Name:- \",self.__name)\n",
    "        print(\"Age:-\",self.__age)\n",
    "        \n",
    "class B(A):  \n",
    "    def __init__(self,n,a):\n",
    "        super().__init__(n,a)\n",
    "        \n",
    "    def details(self):\n",
    "        print(self.__name)\n",
    "        \n",
    "class C(B):\n",
    "    def dis(self):\n",
    "        print(self.__name)\n",
    "b=B(\"czx\",33)\n",
    "b.details()\n"
   ]
  },
  {
   "cell_type": "code",
   "execution_count": 38,
   "id": "dbf8aa9f",
   "metadata": {},
   "outputs": [
    {
     "name": "stdout",
     "output_type": "stream",
     "text": [
      "None\n",
      "fyfyfhf\n"
     ]
    }
   ],
   "source": [
    "class A:   \n",
    "    def __init__(self,n,a):\n",
    "        self.name=n\n",
    "        self.age=a\n",
    "    def _display(self):\n",
    "        print(\" Name:- \",self.__name)\n",
    "        print(\"Age:-\",self.__age)\n",
    "a=A(\"as\",12)\n",
    "print(setattr(a,\"name\",\"fyfyfhf\"))\n",
    "print(getattr(a,\"name\"))\n"
   ]
  },
  {
   "cell_type": "code",
   "execution_count": null,
   "id": "36f34336",
   "metadata": {},
   "outputs": [],
   "source": []
  }
 ],
 "metadata": {
  "kernelspec": {
   "display_name": "Python 3 (ipykernel)",
   "language": "python",
   "name": "python3"
  },
  "language_info": {
   "codemirror_mode": {
    "name": "ipython",
    "version": 3
   },
   "file_extension": ".py",
   "mimetype": "text/x-python",
   "name": "python",
   "nbconvert_exporter": "python",
   "pygments_lexer": "ipython3",
   "version": "3.9.7"
  }
 },
 "nbformat": 4,
 "nbformat_minor": 5
}
